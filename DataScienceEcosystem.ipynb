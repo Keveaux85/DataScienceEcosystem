{
 "cells": [
  {
   "cell_type": "markdown",
   "id": "515c6dfb-385d-4a67-b492-ef5e6ec488ff",
   "metadata": {},
   "source": [
    "# Data Science Tools and Ecosystem\n",
    "In this notebook, Data Science Tools and Ecosystem are summarized. "
   ]
  },
  {
   "cell_type": "raw",
   "id": "01589642-5000-42a8-8751-61a3ebb1f476",
   "metadata": {},
   "source": [
    "**Objectives:**\n",
    "- List data science libraries\n",
    "- Create a table to list data science tools\n",
    "- Introduce arithmetic expressions and evaluate\n",
    "- Use arithmetic expressions to convert minutes to hours"
   ]
  },
  {
   "cell_type": "markdown",
   "id": "cbdd199e-9845-4092-a8e7-01555093f0fd",
   "metadata": {},
   "source": [
    "Some of the popular languages that Data Scientists use are: \n",
    "1. Python\n",
    "2. R\n",
    "3. Scala"
   ]
  },
  {
   "cell_type": "markdown",
   "id": "bb3ba6ca-c6aa-4971-83e0-10907edc08b9",
   "metadata": {},
   "source": [
    "Some of the commonly used libraries used by Data Scientists are: \n",
    "1. Pandas\n",
    "2. Matplotlib\n",
    "3. ggplot2"
   ]
  },
  {
   "cell_type": "markdown",
   "id": "982f47de-8c1e-4b14-b399-a0dbfd78a4bf",
   "metadata": {},
   "source": [
    "| Data Science Tools      |\r\n",
    "|-------------------------|\r\n",
    "| Jupyter Notebook        |\r\n",
    "| RStudio                 |Apache Spark         hon)   |\r\n"
   ]
  },
  {
   "cell_type": "markdown",
   "id": "73d012ed-4efb-4a21-9d74-82684510419b",
   "metadata": {},
   "source": [
    "### Below are a few examples of evaluating arithmetic expressions in Python"
   ]
  },
  {
   "cell_type": "code",
   "execution_count": 8,
   "id": "2be891c0-6f17-4150-bb86-606606715065",
   "metadata": {},
   "outputs": [
    {
     "data": {
      "text/plain": [
       "17"
      ]
     },
     "execution_count": 8,
     "metadata": {},
     "output_type": "execute_result"
    }
   ],
   "source": [
    "(3*4)+5"
   ]
  },
  {
   "cell_type": "code",
   "execution_count": 12,
   "id": "e71aa6e9-f9b7-4d48-ad3d-6275c5337598",
   "metadata": {},
   "outputs": [
    {
     "data": {
      "text/plain": [
       "3.3333333333333335"
      ]
     },
     "execution_count": 12,
     "metadata": {},
     "output_type": "execute_result"
    }
   ],
   "source": [
    "# This will convert 200 minutes to hours by dividing by 60\n",
    "(200/60)"
   ]
  },
  {
   "cell_type": "markdown",
   "id": "0e97b788-3dff-4a45-b98d-e70bba938690",
   "metadata": {},
   "source": [
    "## Arthur\n",
    "Kevin Murff"
   ]
  }
 ],
 "metadata": {
  "kernelspec": {
   "display_name": "Python 3 (ipykernel)",
   "language": "python",
   "name": "python3"
  },
  "language_info": {
   "codemirror_mode": {
    "name": "ipython",
    "version": 3
   },
   "file_extension": ".py",
   "mimetype": "text/x-python",
   "name": "python",
   "nbconvert_exporter": "python",
   "pygments_lexer": "ipython3",
   "version": "3.11.7"
  }
 },
 "nbformat": 4,
 "nbformat_minor": 5
}
